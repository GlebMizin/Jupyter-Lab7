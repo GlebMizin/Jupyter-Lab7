{
 "cells": [
  {
   "cell_type": "markdown",
   "source": [
    "# 1.9 Уменьшение размера изображения, вывод матрицы изображения на экран после уменьшения ее размеров"
   ],
   "metadata": {
    "collapsed": false,
    "pycharm": {
     "name": "#%% md\n"
    }
   }
  },
  {
   "cell_type": "markdown",
   "source": [
    "### Уменьшить заданное изображение и вывести на печать матрицу уменьшенного изображения. Нам надо сохранить соотношение сторон, чтобы изображение не исказилось при уменьшении. Для этого необходимо вычислить коэффициент уменьшения стороны"
   ],
   "metadata": {
    "collapsed": false,
    "pycharm": {
     "name": "#%% md\n"
    }
   }
  },
  {
   "cell_type": "code",
   "execution_count": 4,
   "outputs": [],
   "source": [
    "import cv2"
   ],
   "metadata": {
    "collapsed": false,
    "pycharm": {
     "name": "#%%\n"
    }
   }
  },
  {
   "cell_type": "code",
   "execution_count": 5,
   "outputs": [],
   "source": [
    "img = cv2.imread('avto.jpg')\n",
    "final_wide = 200"
   ],
   "metadata": {
    "collapsed": false,
    "pycharm": {
     "name": "#%%\n"
    }
   }
  },
  {
   "cell_type": "markdown",
   "source": [
    "Уменьшаем изображение до подготовленных размеров:"
   ],
   "metadata": {
    "collapsed": false,
    "pycharm": {
     "name": "#%% md\n"
    }
   }
  },
  {
   "cell_type": "code",
   "execution_count": 6,
   "outputs": [],
   "source": [
    "r = float(final_wide)/img.shape[1]\n",
    "dim = (final_wide, int(img.shape[0]*r))"
   ],
   "metadata": {
    "collapsed": false,
    "pycharm": {
     "name": "#%%\n"
    }
   }
  },
  {
   "cell_type": "code",
   "execution_count": 7,
   "outputs": [],
   "source": [
    "resized = cv2.resize(img, dim, interpolation= cv2.INTER_AREA)"
   ],
   "metadata": {
    "collapsed": false,
    "pycharm": {
     "name": "#%%\n"
    }
   }
  },
  {
   "cell_type": "code",
   "execution_count": 8,
   "outputs": [
    {
     "name": "stdout",
     "output_type": "stream",
     "text": [
      "(112, 200, 3)\n",
      "[[[209 189 172]\n",
      "  [210 186 166]\n",
      "  [210 186 164]\n",
      "  ...\n",
      "  [205 184 170]\n",
      "  [205 184 167]\n",
      "  [203 182 165]]\n",
      "\n",
      " [[208 188 170]\n",
      "  [209 187 167]\n",
      "  [210 187 165]\n",
      "  ...\n",
      "  [205 182 166]\n",
      "  [204 182 165]\n",
      "  [204 182 163]]\n",
      "\n",
      " [[210 187 167]\n",
      "  [210 187 166]\n",
      "  [210 186 166]\n",
      "  ...\n",
      "  [204 184 168]\n",
      "  [204 184 167]\n",
      "  [205 184 167]]\n",
      "\n",
      " ...\n",
      "\n",
      " [[165 171 174]\n",
      "  [160 165 168]\n",
      "  [168 173 175]\n",
      "  ...\n",
      "  [ 79  70  69]\n",
      "  [ 95  88  88]\n",
      "  [106  99 100]]\n",
      "\n",
      " [[164 168 172]\n",
      "  [168 173 175]\n",
      "  [167 171 172]\n",
      "  ...\n",
      "  [166 171 174]\n",
      "  [156 163 167]\n",
      "  [161 168 169]]\n",
      "\n",
      " [[171 177 177]\n",
      "  [173 178 179]\n",
      "  [156 160 162]\n",
      "  ...\n",
      "  [159 168 172]\n",
      "  [160 167 169]\n",
      "  [159 167 170]]]\n"
     ]
    }
   ],
   "source": [
    "cv2.imshow(\"Resized image\", resized)\n",
    "print(resized.shape)\n",
    "print(resized)"
   ],
   "metadata": {
    "collapsed": false,
    "pycharm": {
     "name": "#%%\n"
    }
   }
  },
  {
   "cell_type": "code",
   "execution_count": 9,
   "outputs": [
    {
     "name": "stdout",
     "output_type": "stream",
     "text": [
      "[[188 187 186 ... 179 178 178]\n",
      " [188 187 186 ... 179 179 178]\n",
      " [187 187 186 ... 179 179 178]\n",
      " ...\n",
      " [147 141 174 ... 171 163 173]\n",
      " [177 172 199 ... 161 173 188]\n",
      " [179 174 186 ... 153 141 177]]\n"
     ]
    }
   ],
   "source": [
    "img = cv2.imread('avto.jpg', 0)\n",
    "cv2.imshow('image', img)\n",
    "print(img)\n",
    "cv2.waitKey(0)\n",
    "cv2.destroyAllWindows()"
   ],
   "metadata": {
    "collapsed": false,
    "pycharm": {
     "name": "#%%\n"
    }
   }
  }
 ],
 "metadata": {
  "kernelspec": {
   "display_name": "Python 3",
   "language": "python",
   "name": "python3"
  },
  "language_info": {
   "codemirror_mode": {
    "name": "ipython",
    "version": 2
   },
   "file_extension": ".py",
   "mimetype": "text/x-python",
   "name": "python",
   "nbconvert_exporter": "python",
   "pygments_lexer": "ipython2",
   "version": "2.7.6"
  }
 },
 "nbformat": 4,
 "nbformat_minor": 0
}